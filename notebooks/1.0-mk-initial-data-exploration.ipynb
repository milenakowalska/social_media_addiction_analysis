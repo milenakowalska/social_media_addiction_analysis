{
 "cells": [
  {
   "cell_type": "code",
   "execution_count": 1,
   "id": "2eee7ef4-7dd5-4749-9fe1-2f7abf4e623d",
   "metadata": {},
   "outputs": [],
   "source": [
    "import pandas as pd"
   ]
  },
  {
   "cell_type": "code",
   "execution_count": 18,
   "id": "a4ddb98d-4edd-486a-b669-be86e4581208",
   "metadata": {},
   "outputs": [
    {
     "data": {
      "text/html": [
       "<div>\n",
       "<style scoped>\n",
       "    .dataframe tbody tr th:only-of-type {\n",
       "        vertical-align: middle;\n",
       "    }\n",
       "\n",
       "    .dataframe tbody tr th {\n",
       "        vertical-align: top;\n",
       "    }\n",
       "\n",
       "    .dataframe thead th {\n",
       "        text-align: right;\n",
       "    }\n",
       "</style>\n",
       "<table border=\"1\" class=\"dataframe\">\n",
       "  <thead>\n",
       "    <tr style=\"text-align: right;\">\n",
       "      <th></th>\n",
       "      <th>Student_ID</th>\n",
       "      <th>Age</th>\n",
       "      <th>Gender</th>\n",
       "      <th>Academic_Level</th>\n",
       "      <th>Country</th>\n",
       "      <th>Avg_Daily_Usage_Hours</th>\n",
       "      <th>Most_Used_Platform</th>\n",
       "      <th>Affects_Academic_Performance</th>\n",
       "      <th>Sleep_Hours_Per_Night</th>\n",
       "      <th>Mental_Health_Score</th>\n",
       "      <th>Relationship_Status</th>\n",
       "      <th>Conflicts_Over_Social_Media</th>\n",
       "      <th>Addicted_Score</th>\n",
       "    </tr>\n",
       "  </thead>\n",
       "  <tbody>\n",
       "    <tr>\n",
       "      <th>0</th>\n",
       "      <td>1</td>\n",
       "      <td>19</td>\n",
       "      <td>Female</td>\n",
       "      <td>Undergraduate</td>\n",
       "      <td>Bangladesh</td>\n",
       "      <td>5.2</td>\n",
       "      <td>Instagram</td>\n",
       "      <td>Yes</td>\n",
       "      <td>6.5</td>\n",
       "      <td>6</td>\n",
       "      <td>In Relationship</td>\n",
       "      <td>3</td>\n",
       "      <td>8</td>\n",
       "    </tr>\n",
       "    <tr>\n",
       "      <th>1</th>\n",
       "      <td>2</td>\n",
       "      <td>22</td>\n",
       "      <td>Male</td>\n",
       "      <td>Graduate</td>\n",
       "      <td>India</td>\n",
       "      <td>2.1</td>\n",
       "      <td>Twitter</td>\n",
       "      <td>No</td>\n",
       "      <td>7.5</td>\n",
       "      <td>8</td>\n",
       "      <td>Single</td>\n",
       "      <td>0</td>\n",
       "      <td>3</td>\n",
       "    </tr>\n",
       "    <tr>\n",
       "      <th>2</th>\n",
       "      <td>3</td>\n",
       "      <td>20</td>\n",
       "      <td>Female</td>\n",
       "      <td>Undergraduate</td>\n",
       "      <td>USA</td>\n",
       "      <td>6.0</td>\n",
       "      <td>TikTok</td>\n",
       "      <td>Yes</td>\n",
       "      <td>5.0</td>\n",
       "      <td>5</td>\n",
       "      <td>Complicated</td>\n",
       "      <td>4</td>\n",
       "      <td>9</td>\n",
       "    </tr>\n",
       "    <tr>\n",
       "      <th>3</th>\n",
       "      <td>4</td>\n",
       "      <td>18</td>\n",
       "      <td>Male</td>\n",
       "      <td>High School</td>\n",
       "      <td>UK</td>\n",
       "      <td>3.0</td>\n",
       "      <td>YouTube</td>\n",
       "      <td>No</td>\n",
       "      <td>7.0</td>\n",
       "      <td>7</td>\n",
       "      <td>Single</td>\n",
       "      <td>1</td>\n",
       "      <td>4</td>\n",
       "    </tr>\n",
       "    <tr>\n",
       "      <th>4</th>\n",
       "      <td>5</td>\n",
       "      <td>21</td>\n",
       "      <td>Male</td>\n",
       "      <td>Graduate</td>\n",
       "      <td>Canada</td>\n",
       "      <td>4.5</td>\n",
       "      <td>Facebook</td>\n",
       "      <td>Yes</td>\n",
       "      <td>6.0</td>\n",
       "      <td>6</td>\n",
       "      <td>In Relationship</td>\n",
       "      <td>2</td>\n",
       "      <td>7</td>\n",
       "    </tr>\n",
       "    <tr>\n",
       "      <th>5</th>\n",
       "      <td>6</td>\n",
       "      <td>19</td>\n",
       "      <td>Female</td>\n",
       "      <td>Undergraduate</td>\n",
       "      <td>Australia</td>\n",
       "      <td>7.2</td>\n",
       "      <td>Instagram</td>\n",
       "      <td>Yes</td>\n",
       "      <td>4.5</td>\n",
       "      <td>4</td>\n",
       "      <td>Complicated</td>\n",
       "      <td>5</td>\n",
       "      <td>9</td>\n",
       "    </tr>\n",
       "    <tr>\n",
       "      <th>6</th>\n",
       "      <td>7</td>\n",
       "      <td>23</td>\n",
       "      <td>Male</td>\n",
       "      <td>Graduate</td>\n",
       "      <td>Germany</td>\n",
       "      <td>1.5</td>\n",
       "      <td>LinkedIn</td>\n",
       "      <td>No</td>\n",
       "      <td>8.0</td>\n",
       "      <td>9</td>\n",
       "      <td>Single</td>\n",
       "      <td>0</td>\n",
       "      <td>2</td>\n",
       "    </tr>\n",
       "    <tr>\n",
       "      <th>7</th>\n",
       "      <td>8</td>\n",
       "      <td>20</td>\n",
       "      <td>Female</td>\n",
       "      <td>Undergraduate</td>\n",
       "      <td>Brazil</td>\n",
       "      <td>5.8</td>\n",
       "      <td>Snapchat</td>\n",
       "      <td>Yes</td>\n",
       "      <td>6.0</td>\n",
       "      <td>6</td>\n",
       "      <td>In Relationship</td>\n",
       "      <td>2</td>\n",
       "      <td>8</td>\n",
       "    </tr>\n",
       "    <tr>\n",
       "      <th>8</th>\n",
       "      <td>9</td>\n",
       "      <td>18</td>\n",
       "      <td>Male</td>\n",
       "      <td>High School</td>\n",
       "      <td>Japan</td>\n",
       "      <td>4.0</td>\n",
       "      <td>TikTok</td>\n",
       "      <td>No</td>\n",
       "      <td>6.5</td>\n",
       "      <td>7</td>\n",
       "      <td>Single</td>\n",
       "      <td>1</td>\n",
       "      <td>5</td>\n",
       "    </tr>\n",
       "    <tr>\n",
       "      <th>9</th>\n",
       "      <td>10</td>\n",
       "      <td>21</td>\n",
       "      <td>Female</td>\n",
       "      <td>Graduate</td>\n",
       "      <td>South Korea</td>\n",
       "      <td>3.3</td>\n",
       "      <td>Instagram</td>\n",
       "      <td>No</td>\n",
       "      <td>7.0</td>\n",
       "      <td>7</td>\n",
       "      <td>In Relationship</td>\n",
       "      <td>1</td>\n",
       "      <td>4</td>\n",
       "    </tr>\n",
       "    <tr>\n",
       "      <th>10</th>\n",
       "      <td>11</td>\n",
       "      <td>19</td>\n",
       "      <td>Male</td>\n",
       "      <td>Undergraduate</td>\n",
       "      <td>France</td>\n",
       "      <td>4.8</td>\n",
       "      <td>Snapchat</td>\n",
       "      <td>Yes</td>\n",
       "      <td>6.2</td>\n",
       "      <td>5</td>\n",
       "      <td>Complicated</td>\n",
       "      <td>3</td>\n",
       "      <td>7</td>\n",
       "    </tr>\n",
       "    <tr>\n",
       "      <th>11</th>\n",
       "      <td>12</td>\n",
       "      <td>20</td>\n",
       "      <td>Female</td>\n",
       "      <td>Undergraduate</td>\n",
       "      <td>Spain</td>\n",
       "      <td>5.5</td>\n",
       "      <td>TikTok</td>\n",
       "      <td>Yes</td>\n",
       "      <td>5.8</td>\n",
       "      <td>6</td>\n",
       "      <td>In Relationship</td>\n",
       "      <td>2</td>\n",
       "      <td>8</td>\n",
       "    </tr>\n",
       "    <tr>\n",
       "      <th>12</th>\n",
       "      <td>13</td>\n",
       "      <td>22</td>\n",
       "      <td>Male</td>\n",
       "      <td>Graduate</td>\n",
       "      <td>Italy</td>\n",
       "      <td>2.8</td>\n",
       "      <td>LinkedIn</td>\n",
       "      <td>No</td>\n",
       "      <td>7.2</td>\n",
       "      <td>8</td>\n",
       "      <td>Single</td>\n",
       "      <td>1</td>\n",
       "      <td>4</td>\n",
       "    </tr>\n",
       "    <tr>\n",
       "      <th>13</th>\n",
       "      <td>14</td>\n",
       "      <td>18</td>\n",
       "      <td>Female</td>\n",
       "      <td>High School</td>\n",
       "      <td>Mexico</td>\n",
       "      <td>6.5</td>\n",
       "      <td>Instagram</td>\n",
       "      <td>Yes</td>\n",
       "      <td>5.5</td>\n",
       "      <td>5</td>\n",
       "      <td>Single</td>\n",
       "      <td>4</td>\n",
       "      <td>9</td>\n",
       "    </tr>\n",
       "    <tr>\n",
       "      <th>14</th>\n",
       "      <td>15</td>\n",
       "      <td>21</td>\n",
       "      <td>Male</td>\n",
       "      <td>Undergraduate</td>\n",
       "      <td>Russia</td>\n",
       "      <td>3.7</td>\n",
       "      <td>YouTube</td>\n",
       "      <td>No</td>\n",
       "      <td>6.8</td>\n",
       "      <td>7</td>\n",
       "      <td>In Relationship</td>\n",
       "      <td>2</td>\n",
       "      <td>5</td>\n",
       "    </tr>\n",
       "    <tr>\n",
       "      <th>15</th>\n",
       "      <td>16</td>\n",
       "      <td>20</td>\n",
       "      <td>Female</td>\n",
       "      <td>Undergraduate</td>\n",
       "      <td>China</td>\n",
       "      <td>4.2</td>\n",
       "      <td>TikTok</td>\n",
       "      <td>Yes</td>\n",
       "      <td>6.0</td>\n",
       "      <td>6</td>\n",
       "      <td>Complicated</td>\n",
       "      <td>3</td>\n",
       "      <td>7</td>\n",
       "    </tr>\n",
       "    <tr>\n",
       "      <th>16</th>\n",
       "      <td>17</td>\n",
       "      <td>24</td>\n",
       "      <td>Male</td>\n",
       "      <td>Graduate</td>\n",
       "      <td>Sweden</td>\n",
       "      <td>2.0</td>\n",
       "      <td>LinkedIn</td>\n",
       "      <td>No</td>\n",
       "      <td>7.8</td>\n",
       "      <td>8</td>\n",
       "      <td>Single</td>\n",
       "      <td>0</td>\n",
       "      <td>3</td>\n",
       "    </tr>\n",
       "    <tr>\n",
       "      <th>17</th>\n",
       "      <td>18</td>\n",
       "      <td>19</td>\n",
       "      <td>Female</td>\n",
       "      <td>High School</td>\n",
       "      <td>Norway</td>\n",
       "      <td>5.0</td>\n",
       "      <td>Instagram</td>\n",
       "      <td>Yes</td>\n",
       "      <td>5.7</td>\n",
       "      <td>5</td>\n",
       "      <td>In Relationship</td>\n",
       "      <td>3</td>\n",
       "      <td>8</td>\n",
       "    </tr>\n",
       "    <tr>\n",
       "      <th>18</th>\n",
       "      <td>19</td>\n",
       "      <td>21</td>\n",
       "      <td>Male</td>\n",
       "      <td>Undergraduate</td>\n",
       "      <td>Denmark</td>\n",
       "      <td>3.5</td>\n",
       "      <td>Facebook</td>\n",
       "      <td>No</td>\n",
       "      <td>6.7</td>\n",
       "      <td>7</td>\n",
       "      <td>Single</td>\n",
       "      <td>1</td>\n",
       "      <td>5</td>\n",
       "    </tr>\n",
       "    <tr>\n",
       "      <th>19</th>\n",
       "      <td>20</td>\n",
       "      <td>20</td>\n",
       "      <td>Female</td>\n",
       "      <td>Undergraduate</td>\n",
       "      <td>Netherlands</td>\n",
       "      <td>4.7</td>\n",
       "      <td>Snapchat</td>\n",
       "      <td>Yes</td>\n",
       "      <td>5.9</td>\n",
       "      <td>6</td>\n",
       "      <td>Complicated</td>\n",
       "      <td>3</td>\n",
       "      <td>7</td>\n",
       "    </tr>\n",
       "  </tbody>\n",
       "</table>\n",
       "</div>"
      ],
      "text/plain": [
       "    Student_ID  Age  Gender Academic_Level      Country  \\\n",
       "0            1   19  Female  Undergraduate   Bangladesh   \n",
       "1            2   22    Male       Graduate        India   \n",
       "2            3   20  Female  Undergraduate          USA   \n",
       "3            4   18    Male    High School           UK   \n",
       "4            5   21    Male       Graduate       Canada   \n",
       "5            6   19  Female  Undergraduate    Australia   \n",
       "6            7   23    Male       Graduate      Germany   \n",
       "7            8   20  Female  Undergraduate       Brazil   \n",
       "8            9   18    Male    High School        Japan   \n",
       "9           10   21  Female       Graduate  South Korea   \n",
       "10          11   19    Male  Undergraduate       France   \n",
       "11          12   20  Female  Undergraduate        Spain   \n",
       "12          13   22    Male       Graduate        Italy   \n",
       "13          14   18  Female    High School       Mexico   \n",
       "14          15   21    Male  Undergraduate       Russia   \n",
       "15          16   20  Female  Undergraduate        China   \n",
       "16          17   24    Male       Graduate       Sweden   \n",
       "17          18   19  Female    High School       Norway   \n",
       "18          19   21    Male  Undergraduate      Denmark   \n",
       "19          20   20  Female  Undergraduate  Netherlands   \n",
       "\n",
       "    Avg_Daily_Usage_Hours Most_Used_Platform Affects_Academic_Performance  \\\n",
       "0                     5.2          Instagram                          Yes   \n",
       "1                     2.1            Twitter                           No   \n",
       "2                     6.0             TikTok                          Yes   \n",
       "3                     3.0            YouTube                           No   \n",
       "4                     4.5           Facebook                          Yes   \n",
       "5                     7.2          Instagram                          Yes   \n",
       "6                     1.5           LinkedIn                           No   \n",
       "7                     5.8           Snapchat                          Yes   \n",
       "8                     4.0             TikTok                           No   \n",
       "9                     3.3          Instagram                           No   \n",
       "10                    4.8           Snapchat                          Yes   \n",
       "11                    5.5             TikTok                          Yes   \n",
       "12                    2.8           LinkedIn                           No   \n",
       "13                    6.5          Instagram                          Yes   \n",
       "14                    3.7            YouTube                           No   \n",
       "15                    4.2             TikTok                          Yes   \n",
       "16                    2.0           LinkedIn                           No   \n",
       "17                    5.0          Instagram                          Yes   \n",
       "18                    3.5           Facebook                           No   \n",
       "19                    4.7           Snapchat                          Yes   \n",
       "\n",
       "    Sleep_Hours_Per_Night  Mental_Health_Score Relationship_Status  \\\n",
       "0                     6.5                    6     In Relationship   \n",
       "1                     7.5                    8              Single   \n",
       "2                     5.0                    5         Complicated   \n",
       "3                     7.0                    7              Single   \n",
       "4                     6.0                    6     In Relationship   \n",
       "5                     4.5                    4         Complicated   \n",
       "6                     8.0                    9              Single   \n",
       "7                     6.0                    6     In Relationship   \n",
       "8                     6.5                    7              Single   \n",
       "9                     7.0                    7     In Relationship   \n",
       "10                    6.2                    5         Complicated   \n",
       "11                    5.8                    6     In Relationship   \n",
       "12                    7.2                    8              Single   \n",
       "13                    5.5                    5              Single   \n",
       "14                    6.8                    7     In Relationship   \n",
       "15                    6.0                    6         Complicated   \n",
       "16                    7.8                    8              Single   \n",
       "17                    5.7                    5     In Relationship   \n",
       "18                    6.7                    7              Single   \n",
       "19                    5.9                    6         Complicated   \n",
       "\n",
       "    Conflicts_Over_Social_Media  Addicted_Score  \n",
       "0                             3               8  \n",
       "1                             0               3  \n",
       "2                             4               9  \n",
       "3                             1               4  \n",
       "4                             2               7  \n",
       "5                             5               9  \n",
       "6                             0               2  \n",
       "7                             2               8  \n",
       "8                             1               5  \n",
       "9                             1               4  \n",
       "10                            3               7  \n",
       "11                            2               8  \n",
       "12                            1               4  \n",
       "13                            4               9  \n",
       "14                            2               5  \n",
       "15                            3               7  \n",
       "16                            0               3  \n",
       "17                            3               8  \n",
       "18                            1               5  \n",
       "19                            3               7  "
      ]
     },
     "execution_count": 18,
     "metadata": {},
     "output_type": "execute_result"
    }
   ],
   "source": [
    "df = pd.read_csv(\"../data/raw/dataset.csv\")\n",
    "\n",
    "df.head(20)"
   ]
  },
  {
   "cell_type": "markdown",
   "id": "27e5b19d-712f-4623-9db3-e97e03a560f7",
   "metadata": {},
   "source": [
    "## Overview"
   ]
  },
  {
   "cell_type": "code",
   "execution_count": 3,
   "id": "77af902c-e472-45f9-9578-2b51537ed4a7",
   "metadata": {},
   "outputs": [
    {
     "data": {
      "text/plain": [
       "(705, 13)"
      ]
     },
     "execution_count": 3,
     "metadata": {},
     "output_type": "execute_result"
    }
   ],
   "source": [
    "df.shape"
   ]
  },
  {
   "cell_type": "code",
   "execution_count": 4,
   "id": "ba7b1a5e-2718-4edb-bb7b-aacf33aa0158",
   "metadata": {},
   "outputs": [
    {
     "data": {
      "text/plain": [
       "Index(['Student_ID', 'Age', 'Gender', 'Academic_Level', 'Country',\n",
       "       'Avg_Daily_Usage_Hours', 'Most_Used_Platform',\n",
       "       'Affects_Academic_Performance', 'Sleep_Hours_Per_Night',\n",
       "       'Mental_Health_Score', 'Relationship_Status',\n",
       "       'Conflicts_Over_Social_Media', 'Addicted_Score'],\n",
       "      dtype='object')"
      ]
     },
     "execution_count": 4,
     "metadata": {},
     "output_type": "execute_result"
    }
   ],
   "source": [
    "df.columns"
   ]
  },
  {
   "cell_type": "code",
   "execution_count": 20,
   "id": "e815db30-301e-4b42-b658-5f715586b616",
   "metadata": {},
   "outputs": [
    {
     "name": "stdout",
     "output_type": "stream",
     "text": [
      "<class 'pandas.core.frame.DataFrame'>\n",
      "RangeIndex: 705 entries, 0 to 704\n",
      "Data columns (total 13 columns):\n",
      " #   Column                        Non-Null Count  Dtype  \n",
      "---  ------                        --------------  -----  \n",
      " 0   Student_ID                    705 non-null    int64  \n",
      " 1   Age                           705 non-null    int64  \n",
      " 2   Gender                        705 non-null    object \n",
      " 3   Academic_Level                705 non-null    object \n",
      " 4   Country                       705 non-null    object \n",
      " 5   Avg_Daily_Usage_Hours         705 non-null    float64\n",
      " 6   Most_Used_Platform            705 non-null    object \n",
      " 7   Affects_Academic_Performance  705 non-null    object \n",
      " 8   Sleep_Hours_Per_Night         705 non-null    float64\n",
      " 9   Mental_Health_Score           705 non-null    int64  \n",
      " 10  Relationship_Status           705 non-null    object \n",
      " 11  Conflicts_Over_Social_Media   705 non-null    int64  \n",
      " 12  Addicted_Score                705 non-null    int64  \n",
      "dtypes: float64(2), int64(5), object(6)\n",
      "memory usage: 71.7+ KB\n"
     ]
    }
   ],
   "source": [
    "df.info()"
   ]
  },
  {
   "cell_type": "markdown",
   "id": "e6875b51-14c4-41d6-b9b2-e03eafe0cac4",
   "metadata": {},
   "source": [
    "## Missing values"
   ]
  },
  {
   "cell_type": "code",
   "execution_count": 21,
   "id": "4038575a-a11e-430c-b204-e1a31e89ec97",
   "metadata": {},
   "outputs": [
    {
     "name": "stdout",
     "output_type": "stream",
     "text": [
      "Student_ID                      0\n",
      "Age                             0\n",
      "Gender                          0\n",
      "Academic_Level                  0\n",
      "Country                         0\n",
      "Avg_Daily_Usage_Hours           0\n",
      "Most_Used_Platform              0\n",
      "Affects_Academic_Performance    0\n",
      "Sleep_Hours_Per_Night           0\n",
      "Mental_Health_Score             0\n",
      "Relationship_Status             0\n",
      "Conflicts_Over_Social_Media     0\n",
      "Addicted_Score                  0\n",
      "dtype: int64\n"
     ]
    }
   ],
   "source": [
    "print(df.isnull().sum())"
   ]
  },
  {
   "cell_type": "markdown",
   "id": "cffd43a0-59ff-4694-9af7-a61d3cd87489",
   "metadata": {},
   "source": [
    "## Describe DataFrame"
   ]
  },
  {
   "cell_type": "code",
   "execution_count": 9,
   "id": "d46d0a48-2f45-4efd-91a9-fa9764564a38",
   "metadata": {},
   "outputs": [
    {
     "data": {
      "text/html": [
       "<div>\n",
       "<style scoped>\n",
       "    .dataframe tbody tr th:only-of-type {\n",
       "        vertical-align: middle;\n",
       "    }\n",
       "\n",
       "    .dataframe tbody tr th {\n",
       "        vertical-align: top;\n",
       "    }\n",
       "\n",
       "    .dataframe thead th {\n",
       "        text-align: right;\n",
       "    }\n",
       "</style>\n",
       "<table border=\"1\" class=\"dataframe\">\n",
       "  <thead>\n",
       "    <tr style=\"text-align: right;\">\n",
       "      <th></th>\n",
       "      <th>Student_ID</th>\n",
       "      <th>Age</th>\n",
       "      <th>Avg_Daily_Usage_Hours</th>\n",
       "      <th>Sleep_Hours_Per_Night</th>\n",
       "      <th>Mental_Health_Score</th>\n",
       "      <th>Conflicts_Over_Social_Media</th>\n",
       "      <th>Addicted_Score</th>\n",
       "    </tr>\n",
       "  </thead>\n",
       "  <tbody>\n",
       "    <tr>\n",
       "      <th>count</th>\n",
       "      <td>705.000000</td>\n",
       "      <td>705.000000</td>\n",
       "      <td>705.000000</td>\n",
       "      <td>705.000000</td>\n",
       "      <td>705.000000</td>\n",
       "      <td>705.000000</td>\n",
       "      <td>705.000000</td>\n",
       "    </tr>\n",
       "    <tr>\n",
       "      <th>mean</th>\n",
       "      <td>353.000000</td>\n",
       "      <td>20.659574</td>\n",
       "      <td>4.918723</td>\n",
       "      <td>6.868936</td>\n",
       "      <td>6.226950</td>\n",
       "      <td>2.849645</td>\n",
       "      <td>6.436879</td>\n",
       "    </tr>\n",
       "    <tr>\n",
       "      <th>std</th>\n",
       "      <td>203.660256</td>\n",
       "      <td>1.399217</td>\n",
       "      <td>1.257395</td>\n",
       "      <td>1.126848</td>\n",
       "      <td>1.105055</td>\n",
       "      <td>0.957968</td>\n",
       "      <td>1.587165</td>\n",
       "    </tr>\n",
       "    <tr>\n",
       "      <th>min</th>\n",
       "      <td>1.000000</td>\n",
       "      <td>18.000000</td>\n",
       "      <td>1.500000</td>\n",
       "      <td>3.800000</td>\n",
       "      <td>4.000000</td>\n",
       "      <td>0.000000</td>\n",
       "      <td>2.000000</td>\n",
       "    </tr>\n",
       "    <tr>\n",
       "      <th>25%</th>\n",
       "      <td>177.000000</td>\n",
       "      <td>19.000000</td>\n",
       "      <td>4.100000</td>\n",
       "      <td>6.000000</td>\n",
       "      <td>5.000000</td>\n",
       "      <td>2.000000</td>\n",
       "      <td>5.000000</td>\n",
       "    </tr>\n",
       "    <tr>\n",
       "      <th>50%</th>\n",
       "      <td>353.000000</td>\n",
       "      <td>21.000000</td>\n",
       "      <td>4.800000</td>\n",
       "      <td>6.900000</td>\n",
       "      <td>6.000000</td>\n",
       "      <td>3.000000</td>\n",
       "      <td>7.000000</td>\n",
       "    </tr>\n",
       "    <tr>\n",
       "      <th>75%</th>\n",
       "      <td>529.000000</td>\n",
       "      <td>22.000000</td>\n",
       "      <td>5.800000</td>\n",
       "      <td>7.700000</td>\n",
       "      <td>7.000000</td>\n",
       "      <td>4.000000</td>\n",
       "      <td>8.000000</td>\n",
       "    </tr>\n",
       "    <tr>\n",
       "      <th>max</th>\n",
       "      <td>705.000000</td>\n",
       "      <td>24.000000</td>\n",
       "      <td>8.500000</td>\n",
       "      <td>9.600000</td>\n",
       "      <td>9.000000</td>\n",
       "      <td>5.000000</td>\n",
       "      <td>9.000000</td>\n",
       "    </tr>\n",
       "  </tbody>\n",
       "</table>\n",
       "</div>"
      ],
      "text/plain": [
       "       Student_ID         Age  Avg_Daily_Usage_Hours  Sleep_Hours_Per_Night  \\\n",
       "count  705.000000  705.000000             705.000000             705.000000   \n",
       "mean   353.000000   20.659574               4.918723               6.868936   \n",
       "std    203.660256    1.399217               1.257395               1.126848   \n",
       "min      1.000000   18.000000               1.500000               3.800000   \n",
       "25%    177.000000   19.000000               4.100000               6.000000   \n",
       "50%    353.000000   21.000000               4.800000               6.900000   \n",
       "75%    529.000000   22.000000               5.800000               7.700000   \n",
       "max    705.000000   24.000000               8.500000               9.600000   \n",
       "\n",
       "       Mental_Health_Score  Conflicts_Over_Social_Media  Addicted_Score  \n",
       "count           705.000000                   705.000000      705.000000  \n",
       "mean              6.226950                     2.849645        6.436879  \n",
       "std               1.105055                     0.957968        1.587165  \n",
       "min               4.000000                     0.000000        2.000000  \n",
       "25%               5.000000                     2.000000        5.000000  \n",
       "50%               6.000000                     3.000000        7.000000  \n",
       "75%               7.000000                     4.000000        8.000000  \n",
       "max               9.000000                     5.000000        9.000000  "
      ]
     },
     "execution_count": 9,
     "metadata": {},
     "output_type": "execute_result"
    }
   ],
   "source": [
    "df.describe()"
   ]
  },
  {
   "cell_type": "code",
   "execution_count": 39,
   "id": "39ef8c85-817e-4dd6-aeda-f8773e6a3939",
   "metadata": {},
   "outputs": [
    {
     "data": {
      "text/html": [
       "<div>\n",
       "<style scoped>\n",
       "    .dataframe tbody tr th:only-of-type {\n",
       "        vertical-align: middle;\n",
       "    }\n",
       "\n",
       "    .dataframe tbody tr th {\n",
       "        vertical-align: top;\n",
       "    }\n",
       "\n",
       "    .dataframe thead th {\n",
       "        text-align: right;\n",
       "    }\n",
       "</style>\n",
       "<table border=\"1\" class=\"dataframe\">\n",
       "  <thead>\n",
       "    <tr style=\"text-align: right;\">\n",
       "      <th></th>\n",
       "      <th>Gender</th>\n",
       "      <th>Academic_Level</th>\n",
       "      <th>Country</th>\n",
       "      <th>Most_Used_Platform</th>\n",
       "      <th>Affects_Academic_Performance</th>\n",
       "      <th>Relationship_Status</th>\n",
       "    </tr>\n",
       "  </thead>\n",
       "  <tbody>\n",
       "    <tr>\n",
       "      <th>count</th>\n",
       "      <td>705</td>\n",
       "      <td>705</td>\n",
       "      <td>705</td>\n",
       "      <td>705</td>\n",
       "      <td>705</td>\n",
       "      <td>705</td>\n",
       "    </tr>\n",
       "    <tr>\n",
       "      <th>unique</th>\n",
       "      <td>2</td>\n",
       "      <td>3</td>\n",
       "      <td>110</td>\n",
       "      <td>12</td>\n",
       "      <td>2</td>\n",
       "      <td>3</td>\n",
       "    </tr>\n",
       "    <tr>\n",
       "      <th>top</th>\n",
       "      <td>Female</td>\n",
       "      <td>Undergraduate</td>\n",
       "      <td>India</td>\n",
       "      <td>Instagram</td>\n",
       "      <td>Yes</td>\n",
       "      <td>Single</td>\n",
       "    </tr>\n",
       "    <tr>\n",
       "      <th>freq</th>\n",
       "      <td>353</td>\n",
       "      <td>353</td>\n",
       "      <td>53</td>\n",
       "      <td>249</td>\n",
       "      <td>453</td>\n",
       "      <td>384</td>\n",
       "    </tr>\n",
       "  </tbody>\n",
       "</table>\n",
       "</div>"
      ],
      "text/plain": [
       "        Gender Academic_Level Country Most_Used_Platform  \\\n",
       "count      705            705     705                705   \n",
       "unique       2              3     110                 12   \n",
       "top     Female  Undergraduate   India          Instagram   \n",
       "freq       353            353      53                249   \n",
       "\n",
       "       Affects_Academic_Performance Relationship_Status  \n",
       "count                           705                 705  \n",
       "unique                            2                   3  \n",
       "top                             Yes              Single  \n",
       "freq                            453                 384  "
      ]
     },
     "execution_count": 39,
     "metadata": {},
     "output_type": "execute_result"
    }
   ],
   "source": [
    "df.describe(include=[\"object\", \"category\"])"
   ]
  },
  {
   "cell_type": "code",
   "execution_count": 40,
   "id": "95829377-ae1f-4c48-b72f-b8c93c5649f0",
   "metadata": {},
   "outputs": [
    {
     "data": {
      "text/plain": [
       "Student_ID                      1.0\n",
       "Age                            18.0\n",
       "Avg_Daily_Usage_Hours           1.5\n",
       "Sleep_Hours_Per_Night           3.8\n",
       "Mental_Health_Score             4.0\n",
       "Conflicts_Over_Social_Media     0.0\n",
       "Addicted_Score                  2.0\n",
       "dtype: float64"
      ]
     },
     "execution_count": 40,
     "metadata": {},
     "output_type": "execute_result"
    }
   ],
   "source": [
    "df.min(numeric_only=True)"
   ]
  },
  {
   "cell_type": "code",
   "execution_count": 41,
   "id": "f35ebce6-0afa-4903-88c0-0ba50cf427db",
   "metadata": {},
   "outputs": [
    {
     "data": {
      "text/plain": [
       "Student_ID                     705.0\n",
       "Age                             24.0\n",
       "Avg_Daily_Usage_Hours            8.5\n",
       "Sleep_Hours_Per_Night            9.6\n",
       "Mental_Health_Score              9.0\n",
       "Conflicts_Over_Social_Media      5.0\n",
       "Addicted_Score                   9.0\n",
       "dtype: float64"
      ]
     },
     "execution_count": 41,
     "metadata": {},
     "output_type": "execute_result"
    }
   ],
   "source": [
    "df.max(numeric_only=True)"
   ]
  },
  {
   "cell_type": "code",
   "execution_count": 11,
   "id": "2b08a60c-3f4a-46ec-b844-f645dafc1a4a",
   "metadata": {},
   "outputs": [
    {
     "data": {
      "text/plain": [
       "array(['Undergraduate', 'Graduate', 'High School'], dtype=object)"
      ]
     },
     "execution_count": 11,
     "metadata": {},
     "output_type": "execute_result"
    }
   ],
   "source": [
    "df[\"Academic_Level\"].unique()"
   ]
  },
  {
   "cell_type": "code",
   "execution_count": 12,
   "id": "0a0dd056-6065-4a28-92c4-6f6cab19d018",
   "metadata": {},
   "outputs": [
    {
     "data": {
      "text/plain": [
       "array(['Bangladesh', 'India', 'USA', 'UK', 'Canada', 'Australia',\n",
       "       'Germany', 'Brazil', 'Japan', 'South Korea', 'France', 'Spain',\n",
       "       'Italy', 'Mexico', 'Russia', 'China', 'Sweden', 'Norway',\n",
       "       'Denmark', 'Netherlands', 'Belgium', 'Switzerland', 'Austria',\n",
       "       'Portugal', 'Greece', 'Ireland', 'New Zealand', 'Singapore',\n",
       "       'Malaysia', 'Thailand', 'Vietnam', 'Philippines', 'Indonesia',\n",
       "       'Taiwan', 'Hong Kong', 'Turkey', 'Israel', 'UAE', 'Egypt',\n",
       "       'Morocco', 'South Africa', 'Nigeria', 'Kenya', 'Ghana',\n",
       "       'Argentina', 'Chile', 'Colombia', 'Peru', 'Venezuela', 'Ecuador',\n",
       "       'Uruguay', 'Paraguay', 'Bolivia', 'Costa Rica', 'Panama',\n",
       "       'Jamaica', 'Trinidad', 'Bahamas', 'Iceland', 'Finland', 'Poland',\n",
       "       'Romania', 'Hungary', 'Czech Republic', 'Slovakia', 'Croatia',\n",
       "       'Serbia', 'Slovenia', 'Bulgaria', 'Estonia', 'Latvia', 'Lithuania',\n",
       "       'Ukraine', 'Moldova', 'Belarus', 'Kazakhstan', 'Uzbekistan',\n",
       "       'Kyrgyzstan', 'Tajikistan', 'Armenia', 'Georgia', 'Azerbaijan',\n",
       "       'Cyprus', 'Malta', 'Luxembourg', 'Monaco', 'Andorra', 'San Marino',\n",
       "       'Vatican City', 'Liechtenstein', 'Montenegro', 'Albania',\n",
       "       'North Macedonia', 'Kosovo', 'Bosnia', 'Qatar', 'Kuwait',\n",
       "       'Bahrain', 'Oman', 'Jordan', 'Lebanon', 'Iraq', 'Yemen', 'Syria',\n",
       "       'Afghanistan', 'Pakistan', 'Nepal', 'Bhutan', 'Sri Lanka',\n",
       "       'Maldives'], dtype=object)"
      ]
     },
     "execution_count": 12,
     "metadata": {},
     "output_type": "execute_result"
    }
   ],
   "source": [
    "df[\"Country\"].unique()"
   ]
  },
  {
   "cell_type": "code",
   "execution_count": 13,
   "id": "60e96d4d-1c3c-4b85-bec4-38b4bc267889",
   "metadata": {},
   "outputs": [
    {
     "data": {
      "text/plain": [
       "array(['Instagram', 'Twitter', 'TikTok', 'YouTube', 'Facebook',\n",
       "       'LinkedIn', 'Snapchat', 'LINE', 'KakaoTalk', 'VKontakte',\n",
       "       'WhatsApp', 'WeChat'], dtype=object)"
      ]
     },
     "execution_count": 13,
     "metadata": {},
     "output_type": "execute_result"
    }
   ],
   "source": [
    "df[\"Most_Used_Platform\"].unique()"
   ]
  },
  {
   "cell_type": "code",
   "execution_count": 16,
   "id": "e08a8097-1bd2-43ba-8c98-53edd0da1fe2",
   "metadata": {},
   "outputs": [
    {
     "data": {
      "text/plain": [
       "array(['In Relationship', 'Single', 'Complicated'], dtype=object)"
      ]
     },
     "execution_count": 16,
     "metadata": {},
     "output_type": "execute_result"
    }
   ],
   "source": [
    "df[\"Relationship_Status\"].unique()"
   ]
  },
  {
   "cell_type": "markdown",
   "id": "8ca6b222-9127-4a40-9417-960e8a5158d6",
   "metadata": {},
   "source": [
    "## Check for duplicates"
   ]
  },
  {
   "cell_type": "code",
   "execution_count": 17,
   "id": "b0c4f152-4d24-4485-be89-8b8fe4124d8c",
   "metadata": {},
   "outputs": [
    {
     "data": {
      "text/plain": [
       "0"
      ]
     },
     "execution_count": 17,
     "metadata": {},
     "output_type": "execute_result"
    }
   ],
   "source": [
    "df.duplicated().sum()"
   ]
  },
  {
   "cell_type": "markdown",
   "id": "4d9ca2a0-dcd8-4b11-ae1a-fac647409cef",
   "metadata": {},
   "source": [
    "## Values distribution"
   ]
  },
  {
   "cell_type": "code",
   "execution_count": 30,
   "id": "f992ef92-ef87-48e0-8cbd-a302e51f9575",
   "metadata": {},
   "outputs": [
    {
     "data": {
      "text/plain": [
       "Instagram    249\n",
       "TikTok       154\n",
       "Facebook     123\n",
       "WhatsApp      54\n",
       "Twitter       30\n",
       "LinkedIn      21\n",
       "WeChat        15\n",
       "Snapchat      13\n",
       "LINE          12\n",
       "KakaoTalk     12\n",
       "VKontakte     12\n",
       "YouTube       10\n",
       "Name: Most_Used_Platform, dtype: int64"
      ]
     },
     "execution_count": 30,
     "metadata": {},
     "output_type": "execute_result"
    }
   ],
   "source": [
    "df[\"Most_Used_Platform\"].value_counts()"
   ]
  },
  {
   "cell_type": "code",
   "execution_count": 29,
   "id": "10417c83-7e32-47d6-8c94-cc49fd765fad",
   "metadata": {},
   "outputs": [
    {
     "data": {
      "text/plain": [
       "India          53\n",
       "USA            40\n",
       "Canada         34\n",
       "Denmark        27\n",
       "Ireland        27\n",
       "Turkey         27\n",
       "Mexico         27\n",
       "Spain          27\n",
       "France         27\n",
       "Switzerland    27\n",
       "UK             22\n",
       "Japan          21\n",
       "Italy          21\n",
       "Russia         21\n",
       "Bangladesh     20\n",
       "Pakistan       19\n",
       "Nepal          19\n",
       "Sri Lanka      19\n",
       "Maldives       19\n",
       "Poland         16\n",
       "Name: Country, dtype: int64"
      ]
     },
     "execution_count": 29,
     "metadata": {},
     "output_type": "execute_result"
    }
   ],
   "source": [
    "df[\"Country\"].value_counts().head(20)"
   ]
  },
  {
   "cell_type": "code",
   "execution_count": 32,
   "id": "e318b51b-d2d3-4cb3-876d-a81e0cd6c40d",
   "metadata": {},
   "outputs": [
    {
     "data": {
      "text/plain": [
       "7    209\n",
       "8    144\n",
       "5    136\n",
       "4     83\n",
       "6     61\n",
       "9     55\n",
       "3     16\n",
       "2      1\n",
       "Name: Addicted_Score, dtype: int64"
      ]
     },
     "execution_count": 32,
     "metadata": {},
     "output_type": "execute_result"
    }
   ],
   "source": [
    "df[\"Addicted_Score\"].value_counts()"
   ]
  }
 ],
 "metadata": {
  "kernelspec": {
   "display_name": "Python 3 (ipykernel)",
   "language": "python",
   "name": "python3"
  },
  "language_info": {
   "codemirror_mode": {
    "name": "ipython",
    "version": 3
   },
   "file_extension": ".py",
   "mimetype": "text/x-python",
   "name": "python",
   "nbconvert_exporter": "python",
   "pygments_lexer": "ipython3",
   "version": "3.12.4"
  }
 },
 "nbformat": 4,
 "nbformat_minor": 5
}
